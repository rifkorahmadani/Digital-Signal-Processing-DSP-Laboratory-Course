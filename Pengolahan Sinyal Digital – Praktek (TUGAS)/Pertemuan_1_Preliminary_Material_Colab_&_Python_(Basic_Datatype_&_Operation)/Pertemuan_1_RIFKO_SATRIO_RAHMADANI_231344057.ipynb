{
  "nbformat": 4,
  "nbformat_minor": 0,
  "metadata": {
    "colab": {
      "provenance": []
    },
    "kernelspec": {
      "name": "python3",
      "display_name": "Python 3"
    },
    "language_info": {
      "name": "python"
    }
  },
  "cells": [
    {
      "cell_type": "markdown",
      "source": [
        "Latihan: 1"
      ],
      "metadata": {
        "id": "8ZZQE6g0zFLB"
      }
    },
    {
      "cell_type": "code",
      "source": [
        "num = int(input(\"masukkan nomor: \"))\n",
        "hasil = num*num\n",
        "\n",
        "print(f\"hasil kuadrat dari {num} adalah {hasil}\")"
      ],
      "metadata": {
        "colab": {
          "base_uri": "https://localhost:8080/"
        },
        "id": "754q5-DmzMQ0",
        "outputId": "058e83e7-b14d-4880-9525-faad744c70bd"
      },
      "execution_count": null,
      "outputs": [
        {
          "output_type": "stream",
          "name": "stdout",
          "text": [
            "Masukkan nomor: 7\n",
            "hasil kuadrat dari 7 adalah 49\n"
          ]
        }
      ]
    },
    {
      "cell_type": "markdown",
      "source": [
        "Latihan:2"
      ],
      "metadata": {
        "id": "EX51P2D0zhjX"
      }
    },
    {
      "cell_type": "code",
      "source": [
        "num1 = int(input(\"Masukkan nilai angka: \"))\n",
        "num2 = int(input(\"Masukkan berapa Persen: \"))\n",
        "\n",
        "hasil = num1*num2/100\n",
        "print(f\"{num2}% dari {num1} ialah {hasil}\")"
      ],
      "metadata": {
        "colab": {
          "base_uri": "https://localhost:8080/"
        },
        "id": "3RT4cfhNzmUi",
        "outputId": "9a83d842-f306-4993-fab4-61c3ca14ad26"
      },
      "execution_count": null,
      "outputs": [
        {
          "output_type": "stream",
          "name": "stdout",
          "text": [
            "Masukkan nilai angka: 1945\n",
            "Masukkan berapa Persen: 17\n",
            "17% dari 1945 ialah 330.65\n"
          ]
        }
      ]
    },
    {
      "cell_type": "markdown",
      "source": [
        "Latihan:3"
      ],
      "metadata": {
        "id": "fWFEH6ia0HFv"
      }
    },
    {
      "cell_type": "code",
      "source": [
        "Todo = [\"belajar\", \"berdo'a\", \"bermain\"]\n",
        "print(\"Todo List:\")\n",
        "for tugas in Todo:\n",
        "    print(f\"- {tugas}\")\n",
        "\n",
        "while True:\n",
        "    update = input(\"Masukkan daftar baru (ketik 'hentikan' untuk menyelesaikannya): \")\n",
        "    if update.lower() == \"hentikan\":\n",
        "        break\n",
        "    Todo.append(update)\n",
        "\n",
        "print(\"\\nUpdated Todo list:\")\n",
        "for tugas in Todo:\n",
        "    print(f\"- {tugas}\")"
      ],
      "metadata": {
        "colab": {
          "base_uri": "https://localhost:8080/"
        },
        "id": "BYXXYeuj0K0a",
        "outputId": "1766066f-c657-4980-9b38-e20a23cc42e2"
      },
      "execution_count": null,
      "outputs": [
        {
          "output_type": "stream",
          "name": "stdout",
          "text": [
            "Todo List:\n",
            "- belajar\n",
            "- berdo'a\n",
            "- bermain\n",
            "Masukkan daftar baru (ketik 'hentikan' untuk menyelesaikannya): hentikan\n",
            "\n",
            "Updated Todo list:\n",
            "- belajar\n",
            "- berdo'a\n",
            "- bermain\n"
          ]
        }
      ]
    },
    {
      "cell_type": "markdown",
      "source": [
        "Latihan:4"
      ],
      "metadata": {
        "id": "rP-ERGLn07Je"
      }
    },
    {
      "cell_type": "code",
      "source": [
        "#diminta input dari pengguna untuk dua angka\n",
        "num1 = int(input(\"Masukkan Angka ke-1: \")) #input pertama\n",
        "num2 = int(input(\"Masukkan Angka ke-2: \")) #input kedua\n",
        "op = input(\"Masukkan Operator: \")\n",
        "\n",
        "if op == \"+\":\n",
        "  print(num1+num2)\n",
        "\n",
        "elif op == \"-\":\n",
        "  print(num1-num2)\n",
        "\n",
        "elif op == \"x\":\n",
        "  print(num1*num2)\n",
        "\n",
        "elif op == \":\":\n",
        "  print(num1/num2)\n",
        "\n",
        "elif op == \"/*\":\n",
        "  print(num1%num2)\n",
        "\n",
        "elif op == \"^\":\n",
        "  print(num1**num2)\n",
        "\n",
        "elif op == \"%\":\n",
        "  print((num1*num2)/100)\n",
        "else:\n",
        "  print(\"Data Tidak ada\") #Operator yang dimasukkan tidak dikenali"
      ],
      "metadata": {
        "colab": {
          "base_uri": "https://localhost:8080/"
        },
        "id": "eaxy1s1l0_vV",
        "outputId": "be1d212b-ada9-49cb-a236-f0f98dc7c2d6"
      },
      "execution_count": null,
      "outputs": [
        {
          "output_type": "stream",
          "name": "stdout",
          "text": [
            "Masukkan Angka ke-1: 18\n",
            "Masukkan Angka ke-2: 2\n",
            "Masukkan Operator: x\n",
            "36\n"
          ]
        }
      ]
    },
    {
      "cell_type": "markdown",
      "source": [
        "Latihan: 5"
      ],
      "metadata": {
        "id": "pMV5RqVn1fKT"
      }
    },
    {
      "cell_type": "code",
      "source": [
        "for numbers in range(0,100):\n",
        " if numbers % 3==0:\n",
        "    print(numbers)"
      ],
      "metadata": {
        "colab": {
          "base_uri": "https://localhost:8080/"
        },
        "id": "Ahymg5ZG1hs1",
        "outputId": "d2418e56-0b51-4093-bdfa-baa5a57e891e"
      },
      "execution_count": null,
      "outputs": [
        {
          "output_type": "stream",
          "name": "stdout",
          "text": [
            "0\n",
            "3\n",
            "6\n",
            "9\n",
            "12\n",
            "15\n",
            "18\n",
            "21\n",
            "24\n",
            "27\n",
            "30\n",
            "33\n",
            "36\n",
            "39\n",
            "42\n",
            "45\n",
            "48\n",
            "51\n",
            "54\n",
            "57\n",
            "60\n",
            "63\n",
            "66\n",
            "69\n",
            "72\n",
            "75\n",
            "78\n",
            "81\n",
            "84\n",
            "87\n",
            "90\n",
            "93\n",
            "96\n",
            "99\n"
          ]
        }
      ]
    },
    {
      "cell_type": "markdown",
      "source": [
        "EP_1"
      ],
      "metadata": {
        "id": "j8WRqP-e4Dn5"
      }
    },
    {
      "cell_type": "code",
      "source": [
        "nomor = [1, 2, 3, 4, 5, 6, 7, 8, 9, 10]\n",
        "nomor_genap = [num for num in nomor if num % 2 == 0] #hanya ambil angka yang jika habis di bagi 2\n",
        "print(nomor_genap)"
      ],
      "metadata": {
        "colab": {
          "base_uri": "https://localhost:8080/"
        },
        "id": "WlvsVLg34GEh",
        "outputId": "1feb7bba-ef6a-4c8a-e064-108e30ac1505"
      },
      "execution_count": null,
      "outputs": [
        {
          "output_type": "stream",
          "name": "stdout",
          "text": [
            "[2, 4, 6, 8, 10]\n"
          ]
        }
      ]
    },
    {
      "cell_type": "markdown",
      "source": [
        "EP_2"
      ],
      "metadata": {
        "id": "JMYIunH84Kru"
      }
    },
    {
      "cell_type": "code",
      "source": [
        "text = \"Digital Signal Processing is interesting\"\n",
        "print(f'\"{text}\"')"
      ],
      "metadata": {
        "colab": {
          "base_uri": "https://localhost:8080/"
        },
        "id": "HgCGDm4B4MeY",
        "outputId": "2f61f0c3-0479-460c-d83a-18627345fa3b"
      },
      "execution_count": null,
      "outputs": [
        {
          "output_type": "stream",
          "name": "stdout",
          "text": [
            "\"Digital Signal Processing is interesting\"\n"
          ]
        }
      ]
    },
    {
      "cell_type": "markdown",
      "source": [
        "EP_3"
      ],
      "metadata": {
        "id": "KdAWnm6x4R7v"
      }
    },
    {
      "cell_type": "code",
      "source": [
        "numbers = [4, 2, 9, 4, 2, 1, 5, 6, 9, 7]\n",
        "\n",
        "hasil = sorted(set(numbers))\n",
        "#Set hanya menyimpan angka yang muncul lebih dari sekali (seperti 4 dan 2), sehingga berjumlah satu yang akan dipertahankan, intinya ngehapus duplikat.\n",
        "#Sorted untuk mengurutkan hasil dari ngehapus duplikat sebelumnya.\n",
        "print(hasil)"
      ],
      "metadata": {
        "colab": {
          "base_uri": "https://localhost:8080/"
        },
        "id": "Qd6XwuxI4TeA",
        "outputId": "5ea4a13a-8106-4383-f7b3-77355ca5a5ad"
      },
      "execution_count": null,
      "outputs": [
        {
          "output_type": "stream",
          "name": "stdout",
          "text": [
            "[1, 2, 4, 5, 6, 7, 9]\n"
          ]
        }
      ]
    },
    {
      "cell_type": "markdown",
      "source": [
        "EP_4"
      ],
      "metadata": {
        "id": "pEeMW6ub4drU"
      }
    },
    {
      "cell_type": "code",
      "source": [
        "def fibonacci_loop(N):\n",
        "#list dimulai dengan adanya dua angka pertama dari urutan Fibonacci, 0 dan 1\n",
        "    fib_sequence = [0, 1]\n",
        "\n",
        "#Loopnya dimulai dari angka ke-2 karena sudah ada dua angka pertama sebelumnya\n",
        "    for _ in range(2, N):\n",
        "\n",
        "#fib_sequence adalah sebuah sequence atau urutan angka yang mengikuti pola Fibonacci.\n",
        "#fib_sequence[-1] itu angka terakhir, dan fib_sequence[-2] itu angka kedua terakhir\n",
        "#adanya append guna nilai yang ingin ditambahkan kedalm list\n",
        "        fib_sequence.append(fib_sequence[-1] + fib_sequence[-2])\n",
        "\n",
        "# Mengembalikan urutan\n",
        "    return fib_sequence[:N]\n",
        "\n",
        "print(fibonacci_loop(6))"
      ],
      "metadata": {
        "colab": {
          "base_uri": "https://localhost:8080/"
        },
        "id": "F_eZ5sc04jDt",
        "outputId": "ed6088a5-2f67-40b4-9571-fd7b998ee649"
      },
      "execution_count": null,
      "outputs": [
        {
          "output_type": "stream",
          "name": "stdout",
          "text": [
            "[0, 1, 1, 2, 3, 5]\n"
          ]
        }
      ]
    },
    {
      "cell_type": "code",
      "source": [
        "def fibonacci_recursive(N):\n",
        "    if N <= 1:\n",
        "        return N\n",
        "    else:\n",
        "        return fibonacci_recursive(N-1) + fibonacci_recursive(N-2)  # Rekursi untuk menghitung Fibonacci\n",
        "\n",
        "def generate_fibonacci(N):\n",
        "    return [fibonacci_recursive(i) for i in range(N)]  # Buat list Fibonacci hingga N\n",
        "\n",
        "print(generate_fibonacci(6))"
      ],
      "metadata": {
        "colab": {
          "base_uri": "https://localhost:8080/"
        },
        "id": "Uu9FhBZQ4kfb",
        "outputId": "2cf76d01-6dae-4a9b-ccfe-6c39a13fc649"
      },
      "execution_count": null,
      "outputs": [
        {
          "output_type": "stream",
          "name": "stdout",
          "text": [
            "[0, 1, 1, 2, 3, 5]\n"
          ]
        }
      ]
    },
    {
      "cell_type": "markdown",
      "source": [
        "EP_5"
      ],
      "metadata": {
        "id": "SpC6YIuC4s0r"
      }
    },
    {
      "cell_type": "code",
      "source": [
        "def find_max_min(numbers):\n",
        "    # Asumsikan elemen pertama adalah nilai max dan min\n",
        "    max_value = numbers[0]\n",
        "    min_value = numbers[0]\n",
        "\n",
        "    # Loop untuk memeriksa setiap elemen\n",
        "    for num in numbers:\n",
        "        if num > max_value:\n",
        "            max_value = num  # Menemukan nilai max\n",
        "        if num < min_value:\n",
        "            min_value = num  # Menemukan nilai min\n",
        "\n",
        "    return max_value, min_value\n",
        "\n",
        "numbers = [3, 7, 2, 9, 1, 6]\n",
        "print(find_max_min(numbers))"
      ],
      "metadata": {
        "colab": {
          "base_uri": "https://localhost:8080/"
        },
        "id": "whraLTku4u5H",
        "outputId": "18819c11-4840-4a4f-8be5-df564fac1ff8"
      },
      "execution_count": null,
      "outputs": [
        {
          "output_type": "stream",
          "name": "stdout",
          "text": [
            "(9, 1)\n"
          ]
        }
      ]
    }
  ]
}